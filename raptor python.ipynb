{
  "nbformat": 4,
  "nbformat_minor": 0,
  "metadata": {
    "colab": {
      "provenance": [],
      "authorship_tag": "ABX9TyMIVU0GivMmQafGwH1qzUKZ",
      "include_colab_link": true
    },
    "kernelspec": {
      "name": "python3",
      "display_name": "Python 3"
    },
    "language_info": {
      "name": "python"
    }
  },
  "cells": [
    {
      "cell_type": "markdown",
      "metadata": {
        "id": "view-in-github",
        "colab_type": "text"
      },
      "source": [
        "<a href=\"https://colab.research.google.com/github/Swanimadhoop/python/blob/main/raptor%20python.ipynb\" target=\"_parent\"><img src=\"https://colab.research.google.com/assets/colab-badge.svg\" alt=\"Open In Colab\"/></a>"
      ]
    },
    {
      "cell_type": "code",
      "execution_count": null,
      "metadata": {
        "colab": {
          "base_uri": "https://localhost:8080/"
        },
        "id": "jIWOpLJbcHkS",
        "outputId": "586ce7fb-6521-4e23-f58b-92772446a2a1"
      },
      "outputs": [
        {
          "output_type": "stream",
          "name": "stdout",
          "text": [
            "hello world\n"
          ]
        }
      ],
      "source": [
        "print (\"hello world\")"
      ]
    },
    {
      "cell_type": "markdown",
      "source": [
        "#type"
      ],
      "metadata": {
        "id": "K_b3i_9ixvQ9"
      }
    },
    {
      "cell_type": "code",
      "source": [
        "a=1\n",
        "b=4.6\n",
        "c=0.4\n",
        "print(type(a))\n",
        "print(type(b))\n",
        "print(type(c))"
      ],
      "metadata": {
        "colab": {
          "base_uri": "https://localhost:8080/"
        },
        "id": "csrQ9lndcfUa",
        "outputId": "73c1fc59-40b7-4e76-a3f7-af26c9f53ec9"
      },
      "execution_count": null,
      "outputs": [
        {
          "output_type": "stream",
          "name": "stdout",
          "text": [
            "<class 'int'>\n",
            "<class 'float'>\n",
            "<class 'float'>\n"
          ]
        }
      ]
    },
    {
      "cell_type": "code",
      "source": [
        "b=True\n",
        "print(type(b))\n",
        "print(b)"
      ],
      "metadata": {
        "colab": {
          "base_uri": "https://localhost:8080/"
        },
        "id": "FxMHgPqaeE2c",
        "outputId": "74915c89-1d69-4774-8ec1-de581bacd8a1"
      },
      "execution_count": null,
      "outputs": [
        {
          "output_type": "stream",
          "name": "stdout",
          "text": [
            "<class 'bool'>\n",
            "True\n"
          ]
        }
      ]
    },
    {
      "cell_type": "code",
      "source": [
        "s=\"hello\"\n",
        "print(s)\n",
        "print(type(s))"
      ],
      "metadata": {
        "colab": {
          "base_uri": "https://localhost:8080/"
        },
        "id": "910NIXXzfTIj",
        "outputId": "96bf64b4-3de8-4cb4-c5a9-11f5f5220f20"
      },
      "execution_count": null,
      "outputs": [
        {
          "output_type": "stream",
          "name": "stdout",
          "text": [
            "hello\n",
            "<class 'str'>\n"
          ]
        }
      ]
    },
    {
      "cell_type": "markdown",
      "source": [
        "#basic arithmetic operations"
      ],
      "metadata": {
        "id": "UOomJtdix63Z"
      }
    },
    {
      "cell_type": "code",
      "source": [
        "a=4\n",
        "b=7\n",
        "sum= a + b\n",
        "print(sum)"
      ],
      "metadata": {
        "colab": {
          "base_uri": "https://localhost:8080/"
        },
        "id": "ynNBO7rgg1Eh",
        "outputId": "b71dd6a8-e686-459e-9dd3-47cba5121c76"
      },
      "execution_count": null,
      "outputs": [
        {
          "output_type": "stream",
          "name": "stdout",
          "text": [
            "11\n"
          ]
        }
      ]
    },
    {
      "cell_type": "code",
      "source": [
        "t= 5+3j\n",
        "print(t)\n",
        "print(type(t))"
      ],
      "metadata": {
        "colab": {
          "base_uri": "https://localhost:8080/"
        },
        "id": "PWwVFCKlhkUT",
        "outputId": "744d0e0d-9e14-40a0-fe4a-afdbe59c91d6"
      },
      "execution_count": null,
      "outputs": [
        {
          "output_type": "stream",
          "name": "stdout",
          "text": [
            "(5+3j)\n",
            "<class 'complex'>\n"
          ]
        }
      ]
    },
    {
      "cell_type": "code",
      "source": [
        "a=9\n",
        "b=3\n",
        "diff= a - b\n",
        "print(diff)"
      ],
      "metadata": {
        "colab": {
          "base_uri": "https://localhost:8080/"
        },
        "id": "xFTp6_bniB9u",
        "outputId": "75194959-20f5-4b76-f193-bf574e7c752b"
      },
      "execution_count": null,
      "outputs": [
        {
          "output_type": "stream",
          "name": "stdout",
          "text": [
            "6\n"
          ]
        }
      ]
    },
    {
      "cell_type": "code",
      "source": [
        "a=2\n",
        "b=8\n",
        "product= a*b\n",
        "print(product)"
      ],
      "metadata": {
        "colab": {
          "base_uri": "https://localhost:8080/"
        },
        "id": "y797EyV_iR_X",
        "outputId": "a9f1b8de-08e6-464a-a657-cc33c2cb1952"
      },
      "execution_count": null,
      "outputs": [
        {
          "output_type": "stream",
          "name": "stdout",
          "text": [
            "16\n"
          ]
        }
      ]
    },
    {
      "cell_type": "code",
      "source": [
        "a=9\n",
        "b=3\n",
        "div= a/b\n",
        "print(div)"
      ],
      "metadata": {
        "colab": {
          "base_uri": "https://localhost:8080/"
        },
        "id": "cdBgxwznjf6J",
        "outputId": "87e6fc30-7d21-4ce3-8118-501de45c3b2f"
      },
      "execution_count": null,
      "outputs": [
        {
          "output_type": "stream",
          "name": "stdout",
          "text": [
            "3.0\n"
          ]
        }
      ]
    },
    {
      "cell_type": "code",
      "source": [
        "\n",
        "quo=a // b\n",
        "print(quo)"
      ],
      "metadata": {
        "colab": {
          "base_uri": "https://localhost:8080/"
        },
        "id": "tpq-SJsKlkfx",
        "outputId": "a533b568-8099-4f81-ae05-71e7f2bf1322"
      },
      "execution_count": null,
      "outputs": [
        {
          "output_type": "stream",
          "name": "stdout",
          "text": [
            "2\n"
          ]
        }
      ]
    },
    {
      "cell_type": "code",
      "source": [
        "rem=a%b\n",
        "print(rem)"
      ],
      "metadata": {
        "colab": {
          "base_uri": "https://localhost:8080/"
        },
        "id": "-cYwfocgmFrh",
        "outputId": "11f3503d-3c99-486b-9cfe-65ffdaf6307e"
      },
      "execution_count": null,
      "outputs": [
        {
          "output_type": "stream",
          "name": "stdout",
          "text": [
            "0\n"
          ]
        }
      ]
    },
    {
      "cell_type": "code",
      "source": [
        "a=3\n",
        "b=2\n",
        "pow=a**b\n",
        "print(pow)"
      ],
      "metadata": {
        "colab": {
          "base_uri": "https://localhost:8080/"
        },
        "id": "wwef3q4gmS3U",
        "outputId": "7dbc2389-c645-485e-b34f-81570c570b19"
      },
      "execution_count": null,
      "outputs": [
        {
          "output_type": "stream",
          "name": "stdout",
          "text": [
            "9\n"
          ]
        }
      ]
    },
    {
      "cell_type": "markdown",
      "source": [
        "#avg of 3 numbers"
      ],
      "metadata": {
        "id": "9Qrtpie2shy4"
      }
    },
    {
      "cell_type": "code",
      "source": [
        "a=4\n",
        "b=2\n",
        "c=3\n",
        "avg= (a+b+c)/3\n",
        "print(avg)"
      ],
      "metadata": {
        "colab": {
          "base_uri": "https://localhost:8080/"
        },
        "id": "tuet8iWBnm5U",
        "outputId": "bc640f01-8091-4548-a041-e4ed8773f828"
      },
      "execution_count": null,
      "outputs": [
        {
          "output_type": "stream",
          "name": "stdout",
          "text": [
            "3.0\n"
          ]
        }
      ]
    },
    {
      "cell_type": "code",
      "source": [
        "x=int(input('enter a number'))\n",
        "y=int(input('enter a number'))\n",
        "z=int(input('enter a number'))\n",
        "avg=(x+y+z)/3\n",
        "print(avg)"
      ],
      "metadata": {
        "colab": {
          "base_uri": "https://localhost:8080/"
        },
        "id": "HoO4-u3IoaHc",
        "outputId": "c644420a-c977-4c16-bf71-09faa60df119"
      },
      "execution_count": null,
      "outputs": [
        {
          "output_type": "stream",
          "name": "stdout",
          "text": [
            "enter a number5\n",
            "enter a number50\n",
            "enter a number6\n",
            "20.333333333333332\n"
          ]
        }
      ]
    },
    {
      "cell_type": "markdown",
      "source": [
        "#perimeter  of triangle"
      ],
      "metadata": {
        "id": "JzJfr1iSsKlM"
      }
    },
    {
      "cell_type": "code",
      "source": [
        "a=int(input('enter first side'))\n",
        "b=int(input('enter second side'))\n",
        "c=int(input('enter third side'))\n",
        "perimeter=a+b+c\n",
        "print(perimeter)"
      ],
      "metadata": {
        "colab": {
          "base_uri": "https://localhost:8080/"
        },
        "id": "BQCYjW7tsOe2",
        "outputId": "6137b55c-f128-4942-8888-0c2d1d3731d8"
      },
      "execution_count": null,
      "outputs": [
        {
          "output_type": "stream",
          "name": "stdout",
          "text": [
            "enter first side 4\n",
            "enter second side3\n",
            "enter third side4\n",
            "11\n"
          ]
        }
      ]
    },
    {
      "cell_type": "markdown",
      "source": [
        "#greatest of 2 nos"
      ],
      "metadata": {
        "id": "JDTvAkcZv6f8"
      }
    },
    {
      "cell_type": "code",
      "source": [
        "a=int(input('enter first number'))\n",
        "b=int(input('enter second number'))\n",
        "if a > b:\n",
        " print(a,\"is greater\")\n",
        "elif a < b:\n",
        " print(b,\"is greater\")\n",
        "else:\n",
        " print(\"both are same\")"
      ],
      "metadata": {
        "colab": {
          "base_uri": "https://localhost:8080/"
        },
        "id": "dzGqH0N1u3gR",
        "outputId": "87f8a392-f907-4faa-d3bf-9c9eb4c4aba3"
      },
      "execution_count": null,
      "outputs": [
        {
          "output_type": "stream",
          "name": "stdout",
          "text": [
            "enter first number20\n",
            "enter second number4\n",
            "20 is greater\n"
          ]
        }
      ]
    },
    {
      "cell_type": "markdown",
      "source": [
        "#nature of quadratic eqn"
      ],
      "metadata": {
        "id": "-QNMwVgizQSj"
      }
    },
    {
      "cell_type": "code",
      "source": [
        "a=int(input('enter first number: '))\n",
        "b=int(input('enter second number: '))\n",
        "c=int(input('enter third number: '))\n",
        "r=b*b-4*a*c\n",
        "if r==0 :\n",
        " print(\"roots are real and equal\")\n",
        "elif r>0 :\n",
        "  print(\"roots are real and unequal\")\n",
        "else:\n",
        "  print(\"roots are imaginary and unequal\")\n"
      ],
      "metadata": {
        "colab": {
          "base_uri": "https://localhost:8080/"
        },
        "id": "Yu0h98styT6q",
        "outputId": "9971f6f9-f4d3-4259-a086-56429dce50b5"
      },
      "execution_count": null,
      "outputs": [
        {
          "output_type": "stream",
          "name": "stdout",
          "text": [
            "enter first number: 5\n",
            "enter second number: 7\n",
            "enter third number: 9\n",
            "roots are imaginary and unequal\n"
          ]
        }
      ]
    },
    {
      "cell_type": "markdown",
      "source": [
        "#a no is multiple of another"
      ],
      "metadata": {
        "id": "9K1RwnQf0sBz"
      }
    },
    {
      "cell_type": "code",
      "source": [
        "from re import A\n",
        "a=int(input('enter first number : '))\n",
        "b=int(input('enter second number : '))\n",
        "if a>b :\n",
        "  if a%b==0:\n",
        "   print(\"b is a multiple of a\")\n",
        "  else:\n",
        "   print(\"b is not a multiple of a\")\n",
        "else:\n",
        "  if b%a==0:\n",
        "    print(\"a is a multiple of b\") \n",
        "  else:\n",
        "    print(\"a is not a multiple of b\") \n"
      ],
      "metadata": {
        "id": "s-E5sFCU0qr7",
        "colab": {
          "base_uri": "https://localhost:8080/"
        },
        "outputId": "e294b87f-1f5b-405b-b414-7daeb71d533f"
      },
      "execution_count": null,
      "outputs": [
        {
          "output_type": "stream",
          "name": "stdout",
          "text": [
            "enter first number : 24\n",
            "enter second number : 4\n",
            "b is a multiple of a\n"
          ]
        }
      ]
    },
    {
      "cell_type": "markdown",
      "source": [],
      "metadata": {
        "id": "hczbV3-sYGMD"
      }
    },
    {
      "cell_type": "code",
      "source": [
        "m=int(input(\"enter first no : \"))\n",
        "n=int(input(\"enter second no: \"))\n",
        "step=int(input('step'))\n",
        "i=m\n",
        "while i<=n:\n",
        "  print (i)\n",
        "  i=i+step"
      ],
      "metadata": {
        "colab": {
          "base_uri": "https://localhost:8080/"
        },
        "id": "F7aV4A7G4680",
        "outputId": "fd40b002-bf8c-43b9-e63e-b6c0ad6f38ee"
      },
      "execution_count": null,
      "outputs": [
        {
          "output_type": "stream",
          "name": "stdout",
          "text": [
            "enter first no : 4\n",
            "enter second no: 19\n",
            "step3\n",
            "4\n",
            "7\n",
            "10\n",
            "13\n",
            "16\n",
            "19\n"
          ]
        }
      ]
    },
    {
      "cell_type": "markdown",
      "source": [
        "#prime number check"
      ],
      "metadata": {
        "id": "zQjLIVBgX-y7"
      }
    },
    {
      "cell_type": "code",
      "source": [
        "c=0\n",
        "n=int(input('enter a number: '))\n",
        "f=2\n",
        "while f<n:\n",
        "  if n%f==0:\n",
        "    c=c+1\n",
        "    break\n",
        "f=f+1\n",
        "if c==0:\n",
        " print(\"the number is prime\")\n",
        "else: \n",
        " print(\"the number is not prime\")"
      ],
      "metadata": {
        "colab": {
          "base_uri": "https://localhost:8080/"
        },
        "id": "VGpgp1kS6-7M",
        "outputId": "5f12177a-52d2-42f8-ed85-5b527ddeb2bd"
      },
      "execution_count": null,
      "outputs": [
        {
          "output_type": "stream",
          "name": "stdout",
          "text": [
            "enter a number: 44\n",
            "the number is not prime\n"
          ]
        }
      ]
    },
    {
      "cell_type": "code",
      "source": [
        "for i in range(5):\n",
        " print(i)"
      ],
      "metadata": {
        "colab": {
          "base_uri": "https://localhost:8080/"
        },
        "id": "LRQyT5qq_d69",
        "outputId": "6347b59d-e6cb-461e-f04b-1ccc4aaa93c6"
      },
      "execution_count": null,
      "outputs": [
        {
          "output_type": "stream",
          "name": "stdout",
          "text": [
            "0\n",
            "1\n",
            "2\n",
            "3\n",
            "4\n"
          ]
        }
      ]
    },
    {
      "cell_type": "markdown",
      "source": [
        "# sum of digits of an integer"
      ],
      "metadata": {
        "id": "ev9JTBMyRerb"
      }
    },
    {
      "cell_type": "code",
      "source": [
        "n=int(input('enter the number: '))\n",
        "t=n\n",
        "s=0\n",
        "while n>0:\n",
        "  r=n%10\n",
        "  s=s+r\n",
        "  n=n//10\n",
        "print (s)"
      ],
      "metadata": {
        "colab": {
          "base_uri": "https://localhost:8080/"
        },
        "id": "bgFIiY7dPtqb",
        "outputId": "73d27c9d-af6d-4fae-cbf7-a2d914677ba2"
      },
      "execution_count": null,
      "outputs": [
        {
          "output_type": "stream",
          "name": "stdout",
          "text": [
            "enter the number: 789\n",
            "24\n"
          ]
        }
      ]
    },
    {
      "cell_type": "markdown",
      "source": [
        "# reverse"
      ],
      "metadata": {
        "id": "6PEqObjURiML"
      }
    },
    {
      "cell_type": "code",
      "source": [
        "n=int(input('enter the number: '))\n",
        "t=n\n",
        "s=0\n",
        "while n>0:\n",
        "  r=n%10\n",
        "  s=s*10+r\n",
        "  n=n//10\n",
        "print (s)"
      ],
      "metadata": {
        "colab": {
          "base_uri": "https://localhost:8080/"
        },
        "id": "ZwQrNZWVRccr",
        "outputId": "5a8ae912-4036-401e-81e1-41803b98f46a"
      },
      "execution_count": null,
      "outputs": [
        {
          "output_type": "stream",
          "name": "stdout",
          "text": [
            "enter the number: 5678\n",
            "8765\n"
          ]
        }
      ]
    },
    {
      "cell_type": "markdown",
      "source": [
        "# palindrome"
      ],
      "metadata": {
        "id": "80mggynzSJFD"
      }
    },
    {
      "cell_type": "code",
      "source": [
        "n=int(input('enter the number: '))\n",
        "t=n\n",
        "s=0\n",
        "while n>0:\n",
        "  r=n%10\n",
        "  s=s*10+r\n",
        "  n=n//10\n",
        "if s==t:\n",
        "  print(\"the number is palindrome\")\n",
        "else:\n",
        "  print(\"the number is not palindrome\")"
      ],
      "metadata": {
        "colab": {
          "base_uri": "https://localhost:8080/"
        },
        "id": "tV4bOPxdSJeL",
        "outputId": "ac49bed9-5543-40a1-ffcd-06a02ceaa1d6"
      },
      "execution_count": null,
      "outputs": [
        {
          "output_type": "stream",
          "name": "stdout",
          "text": [
            "enter the number: 1221\n",
            "the number is palindrome\n"
          ]
        }
      ]
    },
    {
      "cell_type": "markdown",
      "source": [
        "# amstrong"
      ],
      "metadata": {
        "id": "p9AGZHPmTROk"
      }
    },
    {
      "cell_type": "code",
      "source": [
        "n=int(input('enter the number: '))\n",
        "t=n\n",
        "s=0\n",
        "while n>0:\n",
        "  r=n%10\n",
        "  s=s+r*r*r\n",
        "  n=n//10\n",
        "if s==t:\n",
        "  print(\"the number is amstrong\")\n",
        "else:\n",
        "  print(\"the number is not amstrong\")"
      ],
      "metadata": {
        "colab": {
          "base_uri": "https://localhost:8080/"
        },
        "id": "FoSuIM9JTRoS",
        "outputId": "9ce2c28e-9cf5-41a1-8bf1-5fe2bd7ad80f"
      },
      "execution_count": null,
      "outputs": [
        {
          "output_type": "stream",
          "name": "stdout",
          "text": [
            "enter the number: 153\n",
            "the number is amstrong\n"
          ]
        }
      ]
    },
    {
      "cell_type": "code",
      "source": [
        "n=int(input('enter the number: '))\n",
        "t=n\n",
        "s=0\n",
        "while n>0:\n",
        "   s=s+1\n",
        "   n=n//10\n",
        "x=t\n",
        "r=0\n",
        "sum=0\n",
        "while t>0:\n",
        "   r=t%10\n",
        "   sum=sum+(r**s)\n",
        "   t=t//10\n",
        "if sum==x:\n",
        "  print(\"the number is amstrong\")\n",
        "else:\n",
        "  print(\"the number is not amstrong\")"
      ],
      "metadata": {
        "colab": {
          "base_uri": "https://localhost:8080/"
        },
        "id": "O0tMKqOQVjEc",
        "outputId": "8caf8b0f-3286-49f5-8c98-5d286fa27429"
      },
      "execution_count": null,
      "outputs": [
        {
          "output_type": "stream",
          "name": "stdout",
          "text": [
            "enter the number: 9474\n",
            "the number is amstrong\n"
          ]
        }
      ]
    },
    {
      "cell_type": "markdown",
      "source": [
        "# 2 digit number check"
      ],
      "metadata": {
        "id": "TQY8hEzeajZ0"
      }
    },
    {
      "cell_type": "code",
      "source": [
        "n=int(input('enter the number: '))\n",
        "if (n>9 and n<-100) :\n",
        "  print(\"the number is two digit\")\n",
        "else:\n",
        "  print(\"the number is not 2 digit\")"
      ],
      "metadata": {
        "id": "i3DSiPxUX5ba",
        "colab": {
          "base_uri": "https://localhost:8080/"
        },
        "outputId": "cb57a728-5d52-4cab-e318-89b85689efe9"
      },
      "execution_count": null,
      "outputs": [
        {
          "output_type": "stream",
          "name": "stdout",
          "text": [
            "enter the number: 567\n",
            "the number is not 2 digit\n"
          ]
        }
      ]
    },
    {
      "cell_type": "markdown",
      "source": [
        "# smallest of three numbers"
      ],
      "metadata": {
        "id": "bsTzbnGUHdyn"
      }
    },
    {
      "cell_type": "code",
      "source": [
        "a=int(input('enter a: '))\n",
        "b=int(input('enter b: '))\n",
        "c=int(input('enter c: '))\n",
        "if a<b:\n",
        "  if a<c:\n",
        "    print(\"a is the smallest number\")\n",
        "  else:\n",
        "    print(\"c is the smallest number\")\n",
        "else:\n",
        "  if b<c:\n",
        "    print(\"b is the smallest number\")\n",
        "  else:\n",
        "    print(\"c is the smallest number\")"
      ],
      "metadata": {
        "colab": {
          "base_uri": "https://localhost:8080/"
        },
        "id": "Xvw6pBt_HupO",
        "outputId": "52fbae0c-c7ae-4f75-d914-d11ad2a0fe50"
      },
      "execution_count": null,
      "outputs": [
        {
          "output_type": "stream",
          "name": "stdout",
          "text": [
            "enter a: 4\n",
            "enter b: 6\n",
            "enter c: 2\n",
            "c is the smallest number\n"
          ]
        }
      ]
    },
    {
      "cell_type": "markdown",
      "source": [
        "# positive or negative or zero check"
      ],
      "metadata": {
        "id": "AUxyfbnjJEKR"
      }
    },
    {
      "cell_type": "code",
      "source": [
        "n=int(input('enter the number'))\n",
        "if n==0:\n",
        "  print(\"the number is zero\")\n",
        "if n>0:\n",
        "  print(\"the number is positive\")\n",
        "else:\n",
        "  print(\"the number is negative\")"
      ],
      "metadata": {
        "colab": {
          "base_uri": "https://localhost:8080/"
        },
        "id": "xN_tK57uJEhP",
        "outputId": "2f72911a-3ff6-4801-9303-dc8622cb154c"
      },
      "execution_count": null,
      "outputs": [
        {
          "output_type": "stream",
          "name": "stdout",
          "text": [
            "enter the number-2\n",
            "the number is negative\n"
          ]
        }
      ]
    },
    {
      "cell_type": "markdown",
      "source": [
        "#distance on number line"
      ],
      "metadata": {
        "id": "HOn2CypxJ5_A"
      }
    },
    {
      "cell_type": "code",
      "source": [
        "a=int(input('enter first point'))\n",
        "b=int(input('enter second point'))\n",
        "if a>b:\n",
        "    s=a-b \n",
        "else:\n",
        "    s=b-a\n",
        "print(s)"
      ],
      "metadata": {
        "colab": {
          "base_uri": "https://localhost:8080/"
        },
        "id": "VDg7Pn_vJ-uQ",
        "outputId": "3951c4aa-6ed6-4b4d-939f-553d28a8d0e4"
      },
      "execution_count": null,
      "outputs": [
        {
          "output_type": "stream",
          "name": "stdout",
          "text": [
            "enter first point5\n",
            "enter second point10\n",
            "5\n"
          ]
        }
      ]
    },
    {
      "cell_type": "markdown",
      "source": [
        "# smallest digit in 2 digit"
      ],
      "metadata": {
        "id": "xpZWRXsWTk-S"
      }
    },
    {
      "cell_type": "code",
      "source": [
        "n=int(input('enter a two digit number: '))\n",
        "r=n%10\n",
        "q=n//10\n",
        "if q>r:\n",
        "  print(\"the ones place digit is the smallest\")\n",
        "else:\n",
        "  print(\"the tens place digit is the smallest\")"
      ],
      "metadata": {
        "colab": {
          "base_uri": "https://localhost:8080/"
        },
        "id": "HU-vSTnKTlYL",
        "outputId": "673656ca-9690-4614-ba70-4a3fb2022d62"
      },
      "execution_count": null,
      "outputs": [
        {
          "output_type": "stream",
          "name": "stdout",
          "text": [
            "enter a two digit number: 56\n",
            "the tens place digit is the smallest\n"
          ]
        }
      ]
    },
    {
      "cell_type": "markdown",
      "source": [
        "#sum of n natural numbers\n"
      ],
      "metadata": {
        "id": "YVyh9iguW0Kw"
      }
    },
    {
      "cell_type": "code",
      "source": [
        "n=int(input('enter the number: '))\n",
        "sum=n*(n+1)//2\n",
        "print(sum)"
      ],
      "metadata": {
        "colab": {
          "base_uri": "https://localhost:8080/"
        },
        "id": "-8q4YtNdXHG9",
        "outputId": "5cdfd622-99f1-402f-a0e8-062f98fddd0d"
      },
      "execution_count": null,
      "outputs": [
        {
          "output_type": "stream",
          "name": "stdout",
          "text": [
            "enter the number: 9\n",
            "45\n"
          ]
        }
      ]
    },
    {
      "cell_type": "markdown",
      "source": [
        "#time from seconds"
      ],
      "metadata": {
        "id": "vCF57yt-aWk5"
      }
    },
    {
      "cell_type": "code",
      "source": [
        "import math\n",
        "t=int(input(\"enter time in seconds: \"))\n",
        "h=math.floor(t/3600)\n",
        "t2=h*3600\n",
        "t3=t-t2\n",
        "m=math.floor(t3/60)\n",
        "t4=m*60\n",
        "s=t3-t4\n",
        "print(\"hour=\",h)\n",
        "print(\"minutes=\",m)\n",
        "print(\"seconds=\",s)"
      ],
      "metadata": {
        "id": "2mDdm9LKacLN",
        "colab": {
          "base_uri": "https://localhost:8080/"
        },
        "outputId": "24e7bcdd-77b2-49d9-da68-549b5d86534c"
      },
      "execution_count": 17,
      "outputs": [
        {
          "output_type": "stream",
          "name": "stdout",
          "text": [
            "enter time in seconds: 78\n",
            "hour= 0\n",
            "minutes= 1\n",
            "seconds= 18\n"
          ]
        }
      ]
    },
    {
      "cell_type": "markdown",
      "source": [
        "#area of a triangle"
      ],
      "metadata": {
        "id": "hDZ32xmUkIGw"
      }
    },
    {
      "cell_type": "code",
      "source": [
        "import math\n",
        "x=int(input(\"enter side x: \"))\n",
        "y=int(input(\"enter side y: \"))\n",
        "z=int(input(\"enter side z: \"))\n",
        "s=(x+y+z)/2\n",
        "A=math.sqrt(s+(s-x)+(s-y)+(s-z))\n",
        "print(A)"
      ],
      "metadata": {
        "colab": {
          "base_uri": "https://localhost:8080/"
        },
        "id": "tDYRnx65kMs6",
        "outputId": "b3dd14e7-330c-4486-eaef-e0e38071e503"
      },
      "execution_count": null,
      "outputs": [
        {
          "output_type": "stream",
          "name": "stdout",
          "text": [
            "enter side x: 5\n",
            "enter side y: 2\n",
            "enter side z: 9\n",
            "4.0\n"
          ]
        }
      ]
    },
    {
      "cell_type": "markdown",
      "source": [
        "#area of circle\n"
      ],
      "metadata": {
        "id": "wBHIYMFQmJVb"
      }
    },
    {
      "cell_type": "code",
      "source": [
        "r=int(input(\"enter the radius: \"))\n",
        "pi=3.14\n",
        "A=pi*r*r \n",
        "print(A)"
      ],
      "metadata": {
        "colab": {
          "base_uri": "https://localhost:8080/"
        },
        "id": "euu_mtexmMpY",
        "outputId": "0702e70c-5841-4911-874f-6c36d139e93c"
      },
      "execution_count": null,
      "outputs": [
        {
          "output_type": "stream",
          "name": "stdout",
          "text": [
            "enter the radius: 5\n",
            "78.5\n"
          ]
        }
      ]
    },
    {
      "cell_type": "markdown",
      "source": [
        "#factorial"
      ],
      "metadata": {
        "id": "IB1xidJNnQlX"
      }
    },
    {
      "cell_type": "code",
      "source": [
        "n=int(input(\"enter the number: \"))\n",
        "a=1\n",
        "if n>=1:\n",
        "  for i in range(1,n+1):\n",
        "    a=a*i\n",
        "elif n==0:\n",
        "    print('1')\n",
        "print(a)"
      ],
      "metadata": {
        "colab": {
          "base_uri": "https://localhost:8080/"
        },
        "id": "0pNkF1O7neKz",
        "outputId": "e4077ac9-c53c-430a-8270-17b2bebcd77b"
      },
      "execution_count": null,
      "outputs": [
        {
          "output_type": "stream",
          "name": "stdout",
          "text": [
            "enter the number: 5\n",
            "120\n"
          ]
        }
      ]
    },
    {
      "cell_type": "markdown",
      "source": [
        "#greatest of two numbers"
      ],
      "metadata": {
        "id": "SkqPPwKOskOL"
      }
    },
    {
      "cell_type": "code",
      "source": [
        "a=int(input('enter first number: '))\n",
        "b=int(input('enter second number: '))\n",
        "if a>b:\n",
        "  print(\"first number is greatest\")\n",
        "else:\n",
        "  print(\"second numberis greatest9\")\n"
      ],
      "metadata": {
        "colab": {
          "base_uri": "https://localhost:8080/"
        },
        "id": "KYQa7j7rssp2",
        "outputId": "8036a6c1-9597-42ee-d667-5a8e3bdb7e07"
      },
      "execution_count": null,
      "outputs": [
        {
          "output_type": "stream",
          "name": "stdout",
          "text": [
            "enter first number: 56\n",
            "enter second number: 8\n",
            "first number is greatest\n"
          ]
        }
      ]
    },
    {
      "cell_type": "markdown",
      "source": [
        "# interchange variable value"
      ],
      "metadata": {
        "id": "EiunIPtdtRKn"
      }
    },
    {
      "cell_type": "code",
      "source": [
        "x=int(input('enter first number: '))\n",
        "y=int(input('enter second number: '))\n",
        "x,y=y,x\n",
        "print(\"x=\" ,x)\n",
        "print(\"y=\" ,y)"
      ],
      "metadata": {
        "colab": {
          "base_uri": "https://localhost:8080/"
        },
        "id": "ZqJaoum7tYVr",
        "outputId": "1f91bbf6-fecd-45a4-ec97-7b7ac0d7d586"
      },
      "execution_count": null,
      "outputs": [
        {
          "output_type": "stream",
          "name": "stdout",
          "text": [
            "enter first number: 4\n",
            "enter second number: 8\n",
            "x= 8\n",
            "y= 4\n"
          ]
        }
      ]
    },
    {
      "cell_type": "markdown",
      "source": [
        "# convert no of days into years months and days"
      ],
      "metadata": {
        "id": "hbITJpf180Fa"
      }
    },
    {
      "cell_type": "code",
      "source": [
        "n=int(input(\"Enter the number of days:\"))\n",
        "year=n//365\n",
        "a=n%365;\n",
        "months=a//30\n",
        "days=a%30\n",
        "print(\"Number of years:\",year,\"Numbers of months:\",months,\"Number of days:\",days)"
      ],
      "metadata": {
        "id": "RlbzpMkg8071",
        "colab": {
          "base_uri": "https://localhost:8080/"
        },
        "outputId": "092a9299-616e-4136-d3bf-712af92d3924"
      },
      "execution_count": 5,
      "outputs": [
        {
          "output_type": "stream",
          "name": "stdout",
          "text": [
            "Enter the number of days:454\n",
            "Number of years: 1 Numbers of months: 2 Number of days: 29\n"
          ]
        }
      ]
    },
    {
      "cell_type": "markdown",
      "source": [
        "# n elements of fibonacci series\n"
      ],
      "metadata": {
        "id": "MIAjv_nf9IOU"
      }
    },
    {
      "cell_type": "code",
      "source": [
        "n=int(input('enter the no of terms: '))\n",
        "n1=0\n",
        "n2=1\n",
        "s=0\n",
        "if n<=0:\n",
        "  print(\"please enter a positive value\")\n",
        "elif n==1:\n",
        "  print(n1)\n",
        "else:\n",
        " while s<n:\n",
        "  print(n1)\n",
        "  n3=n1+n2\n",
        "  n1=n2\n",
        "  n2=n3\n",
        "  s+=1"
      ],
      "metadata": {
        "id": "p6ZL0n6A-7Nd",
        "colab": {
          "base_uri": "https://localhost:8080/"
        },
        "outputId": "a61cd214-ded6-42ff-c06a-aee601ea8754"
      },
      "execution_count": null,
      "outputs": [
        {
          "output_type": "stream",
          "name": "stdout",
          "text": [
            "enter the no of terms: 9\n",
            "0\n",
            "1\n",
            "1\n",
            "2\n",
            "3\n",
            "5\n",
            "8\n",
            "13\n",
            "21\n"
          ]
        }
      ]
    },
    {
      "cell_type": "markdown",
      "source": [
        "# x^n using loops"
      ],
      "metadata": {
        "id": "EURPIb2q-9SK"
      }
    },
    {
      "cell_type": "code",
      "source": [
        "n=int(input('enter the number: '))\n",
        "p=int(input('enter the power: '))\n",
        "s=1\n",
        "for i in range(p):\n",
        "  s=s*n\n",
        "print(s)\n"
      ],
      "metadata": {
        "id": "L-eeLLC6_B5L",
        "colab": {
          "base_uri": "https://localhost:8080/"
        },
        "outputId": "e42733a1-0b2f-4cd0-a2c1-b17ead614410"
      },
      "execution_count": null,
      "outputs": [
        {
          "output_type": "stream",
          "name": "stdout",
          "text": [
            "enter the number: 3\n",
            "enter the power: 3\n",
            "27\n"
          ]
        }
      ]
    },
    {
      "cell_type": "markdown",
      "source": [
        "# gcd of two numbers"
      ],
      "metadata": {
        "id": "qcRKjMHL_DFq"
      }
    },
    {
      "cell_type": "code",
      "source": [
        "def gcd(a, b):\n",
        "    while b:\n",
        "        a, b = b, a % b\n",
        "    return a\n",
        "\n",
        "print(gcd(60,48))\n"
      ],
      "metadata": {
        "id": "uNVcv6EE_IFg",
        "colab": {
          "base_uri": "https://localhost:8080/"
        },
        "outputId": "24a5f7f5-6630-47f0-ac60-9f1825fb2a6a"
      },
      "execution_count": null,
      "outputs": [
        {
          "output_type": "stream",
          "name": "stdout",
          "text": [
            "12\n"
          ]
        }
      ]
    },
    {
      "cell_type": "markdown",
      "source": [
        "# decimal equaivalent of a binary number"
      ],
      "metadata": {
        "id": "q1bpfkYuCSVt"
      }
    },
    {
      "cell_type": "code",
      "source": [
        "n=int(input(\"Enter the binary number:\"))\n",
        "s,i=0,0\n",
        "while(n>0):\n",
        "  r=n%10\n",
        "  s=s+(r*(math.pow(2,i)))\n",
        "  n=n//10\n",
        "  i=i+1\n",
        "print(\"The binary equalent is:\",s)"
      ],
      "metadata": {
        "id": "IAbEgjc0CZ5p",
        "colab": {
          "base_uri": "https://localhost:8080/"
        },
        "outputId": "0a3a7652-5956-4d0c-837e-6e79017ac444"
      },
      "execution_count": 18,
      "outputs": [
        {
          "output_type": "stream",
          "name": "stdout",
          "text": [
            "Enter the binary number:10101\n",
            "The binary equalent is: 21.0\n"
          ]
        }
      ]
    },
    {
      "cell_type": "markdown",
      "source": [
        "# automorphic number"
      ],
      "metadata": {
        "id": "qgn-A8yHCaX3"
      }
    },
    {
      "cell_type": "code",
      "source": [
        "import math\n",
        "n=int(input(\"Enter a number:\"))\n",
        "sq=n*n\n",
        "n1=n\n",
        "c=0\n",
        "while(n>0):\n",
        "    c=c+1\n",
        "    n=n//10\n",
        "a=sq%math.pow(10,c)\n",
        "if(a==n1):\n",
        "    print(\"The number is Automorphic\")\n",
        "else:\n",
        "    print(\"The number is not Automorphic\")"
      ],
      "metadata": {
        "id": "dLrf4yC_Cfrn",
        "colab": {
          "base_uri": "https://localhost:8080/"
        },
        "outputId": "d591b3ce-00e9-4766-babb-14fa22e594db"
      },
      "execution_count": 4,
      "outputs": [
        {
          "output_type": "stream",
          "name": "stdout",
          "text": [
            "Enter a number:25\n",
            "The number is Automorphic\n"
          ]
        }
      ]
    },
    {
      "cell_type": "markdown",
      "source": [
        "# n odd numbers"
      ],
      "metadata": {
        "id": "RnKqt-54C4Pa"
      }
    },
    {
      "cell_type": "code",
      "source": [
        "n=int(input('enter the number of elements'))\n",
        "for i in range(1,n*2,2):\n",
        "  print(i,\" \")\n"
      ],
      "metadata": {
        "id": "_JqV0w83C6AY",
        "colab": {
          "base_uri": "https://localhost:8080/"
        },
        "outputId": "be9b80f4-4aea-4d9e-c685-a1a32cf810e9"
      },
      "execution_count": 15,
      "outputs": [
        {
          "output_type": "stream",
          "name": "stdout",
          "text": [
            "enter the number of elements14\n",
            "1  \n",
            "3  \n",
            "5  \n",
            "7  \n",
            "9  \n",
            "11  \n",
            "13  \n",
            "15  \n",
            "17  \n",
            "19  \n",
            "21  \n",
            "23  \n",
            "25  \n",
            "27  \n"
          ]
        }
      ]
    },
    {
      "cell_type": "markdown",
      "source": [
        "# n terms of ap"
      ],
      "metadata": {
        "id": "xVXYgJDhC796"
      }
    },
    {
      "cell_type": "code",
      "source": [
        "n=int(input(\"Enter the number of elements:\"))\n",
        "a=int(input(\"Enter the value of a:\"))\n",
        "d=int(input(\"Enter the value of d:\"))\n",
        "b=1;\n",
        "while(n>=b):\n",
        "  s=a+((b-1)*d)\n",
        "  print(s)\n",
        "  b=b+1"
      ],
      "metadata": {
        "id": "7SvKf171C_wG",
        "colab": {
          "base_uri": "https://localhost:8080/"
        },
        "outputId": "9517a94c-7ff0-477a-c85c-88efd71f0d69"
      },
      "execution_count": 6,
      "outputs": [
        {
          "output_type": "stream",
          "name": "stdout",
          "text": [
            "Enter the number of elements:9\n",
            "Enter the value of a:2\n",
            "Enter the value of d:5\n",
            "2\n",
            "7\n",
            "12\n",
            "17\n",
            "22\n",
            "27\n",
            "32\n",
            "37\n",
            "42\n"
          ]
        }
      ]
    },
    {
      "cell_type": "markdown",
      "source": [
        "# sum of factors"
      ],
      "metadata": {
        "id": "tgmBWeQZDX2V"
      }
    },
    {
      "cell_type": "code",
      "source": [
        "n=int(input(\"Enter a number:\"))\n",
        "i=1\n",
        "s=0\n",
        "while(i<=n):\n",
        "  if(n%i==0):\n",
        "    s=s+i\n",
        "  i=i+1\n",
        "print(\"Sum of factors=\",s)"
      ],
      "metadata": {
        "id": "MnJQ9b_XDgP4",
        "colab": {
          "base_uri": "https://localhost:8080/"
        },
        "outputId": "4730031e-86d1-4584-cbfb-9601784ddb6f"
      },
      "execution_count": 2,
      "outputs": [
        {
          "output_type": "stream",
          "name": "stdout",
          "text": [
            "Enter a number:7\n",
            "Sum of factors= 8\n"
          ]
        }
      ]
    }
  ]
}